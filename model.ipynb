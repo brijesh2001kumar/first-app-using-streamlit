{
 "cells": [
  {
   "cell_type": "code",
   "execution_count": 1,
   "id": "b524d65f",
   "metadata": {},
   "outputs": [],
   "source": [
    "import streamlit as st\n",
    "import pandas as pd"
   ]
  },
  {
   "cell_type": "code",
   "execution_count": 2,
   "id": "8ac6512f",
   "metadata": {},
   "outputs": [
    {
     "name": "stderr",
     "output_type": "stream",
     "text": [
      "2022-07-19 15:40:53.123 \n",
      "  \u001b[33m\u001b[1mWarning:\u001b[0m to view this Streamlit app on a browser, run it with the following\n",
      "  command:\n",
      "\n",
      "    streamlit run C:\\Users\\Dell\\anaconda3\\lib\\site-packages\\ipykernel_launcher.py [ARGUMENTS]\n"
     ]
    }
   ],
   "source": [
    "header = st.beta_container()\n",
    "dataset = st.beta_container()\n",
    "features = st.beta_container()\n",
    "model_training = st.beta_container()"
   ]
  },
  {
   "cell_type": "code",
   "execution_count": 3,
   "id": "5eb79d79",
   "metadata": {},
   "outputs": [],
   "source": [
    "with header:\n",
    "    st.title('Welcome to streamlit Project')\n",
    "    st.text('in this project i will do blabla bla .....')"
   ]
  },
  {
   "cell_type": "code",
   "execution_count": null,
   "id": "664ad366",
   "metadata": {},
   "outputs": [],
   "source": []
  }
 ],
 "metadata": {
  "kernelspec": {
   "display_name": "Python 3",
   "language": "python",
   "name": "python3"
  },
  "language_info": {
   "codemirror_mode": {
    "name": "ipython",
    "version": 3
   },
   "file_extension": ".py",
   "mimetype": "text/x-python",
   "name": "python",
   "nbconvert_exporter": "python",
   "pygments_lexer": "ipython3",
   "version": "3.8.8"
  }
 },
 "nbformat": 4,
 "nbformat_minor": 5
}
